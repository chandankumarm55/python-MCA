{
 "cells": [
  {
   "cell_type": "code",
   "execution_count": 1,
   "id": "e6a3d98e-6cd8-44d0-86da-82802ade0222",
   "metadata": {},
   "outputs": [
    {
     "name": "stdin",
     "output_type": "stream",
     "text": [
      " 45\n"
     ]
    },
    {
     "name": "stdout",
     "output_type": "stream",
     "text": [
      "529\n"
     ]
    }
   ],
   "source": [
    "class Sum_odd:\n",
    "    def calc(self):\n",
    "        __n = int(input())\n",
    "        x = 0\n",
    "        for i in range(1,__n+1, 2):\n",
    "            x += i\n",
    "        print(x)\n",
    "m = Sum_odd()\n",
    "m.calc()"
   ]
  },
  {
   "cell_type": "code",
   "execution_count": 5,
   "id": "7b3b3c25-e5a0-4d94-9714-3c1df30999e9",
   "metadata": {},
   "outputs": [
    {
     "name": "stdin",
     "output_type": "stream",
     "text": [
      " 34\n"
     ]
    },
    {
     "name": "stdout",
     "output_type": "stream",
     "text": [
      "EVEN\n"
     ]
    }
   ],
   "source": [
    "class Check:\n",
    "    def odd_even(self):\n",
    "        _n = int(input())\n",
    "        if _n % 2 == 0:\n",
    "            print(\"EVEN\")\n",
    "        else:\n",
    "            print(\"ODD\")\n",
    "\n",
    "ob = Check()\n",
    "ob.odd_even()"
   ]
  },
  {
   "cell_type": "code",
   "execution_count": 11,
   "id": "3fbac216-1240-468f-832e-7eb75f5b6af5",
   "metadata": {},
   "outputs": [
    {
     "name": "stdout",
     "output_type": "stream",
     "text": [
      "41000\n",
      "29000\n"
     ]
    }
   ],
   "source": [
    "class Bank_acc:\n",
    "    def __init__(self, owner, bal=0):\n",
    "        self.__bal = bal\n",
    "\n",
    "    def get_bal(self):\n",
    "        return self.__bal\n",
    "\n",
    "    def deposit(self, amt):\n",
    "        if amt > 0:\n",
    "            self.__bal += amt\n",
    "            print(self.__bal)\n",
    "        else:\n",
    "            print(\"Deposit amount should be greater than zero\")\n",
    "\n",
    "    def withdraw(self, amt):\n",
    "        if 0 < amt <= self.__bal:\n",
    "            self.__bal -= amt\n",
    "            print(self.__bal)\n",
    "        else:\n",
    "            print(\"Insufficient amount\")\n",
    "\n",
    "acc = Bank_acc(\"Akbar\", 40000)\n",
    "acc.get_bal()\n",
    "acc.deposit(1000)\n",
    "acc.withdraw(12000)"
   ]
  },
  {
   "cell_type": "code",
   "execution_count": null,
   "id": "8d625c0d-99e2-4731-894a-9c820df56ee6",
   "metadata": {},
   "outputs": [],
   "source": []
  }
 ],
 "metadata": {
  "kernelspec": {
   "display_name": "Python 3 (ipykernel)",
   "language": "python",
   "name": "python3"
  },
  "language_info": {
   "codemirror_mode": {
    "name": "ipython",
    "version": 3
   },
   "file_extension": ".py",
   "mimetype": "text/x-python",
   "name": "python",
   "nbconvert_exporter": "python",
   "pygments_lexer": "ipython3",
   "version": "3.12.2"
  }
 },
 "nbformat": 4,
 "nbformat_minor": 5
}
